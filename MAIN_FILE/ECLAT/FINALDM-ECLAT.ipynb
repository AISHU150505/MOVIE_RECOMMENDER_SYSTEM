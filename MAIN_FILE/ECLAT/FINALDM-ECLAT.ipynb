{
 "cells": [
  {
   "cell_type": "code",
   "execution_count": 33,
   "id": "4daf9313-b50e-4f5d-ba2e-9581d2135cb6",
   "metadata": {},
   "outputs": [],
   "source": [
    "import pandas as pd\n",
    "import numpy as np\n",
    "import math\n",
    "import re\n",
    "import matplotlib.pyplot as plt"
   ]
  },
  {
   "cell_type": "code",
   "execution_count": null,
   "id": "a70c4835-300d-45fe-a9d0-c584932b8fd3",
   "metadata": {},
   "outputs": [],
   "source": [
    "import pandas as pd\n",
    "\n",
    "# ✅ Load movie_titles.csv (Read only 3 columns, ignore extra commas)\n",
    "movies_df = pd.read_csv(\n",
    "    \"movie_title.csv\", \n",
    "    delimiter=\",\", \n",
    "    usecols=[0, 1, 2],  # Read only first 3 columns\n",
    "    names=[\"movie_id\", \"year\", \"title\"], \n",
    "    encoding=\"ISO-8859-1\", \n",
    "    dtype=str  # Read as string first to handle issues\n",
    ")\n",
    "\n",
    "# ✅ Clean `movie_id` column\n",
    "movies_df[\"movie_id\"] = movies_df[\"movie_id\"].str.strip()  # Remove spaces\n",
    "movies_df = movies_df[movies_df[\"movie_id\"].str.isdigit()]  # Keep only valid numbers\n",
    "movies_df[\"movie_id\"] = movies_df[\"movie_id\"].astype(int)  # Convert to integer\n",
    "\n",
    "# ✅ Load combined_data_1.txt (Ratings Data)\n",
    "ratings_list = []\n",
    "with open(\"combined_data_1.txt\", \"r\", encoding=\"ISO-8859-1\") as file:\n",
    "    movie_id = None\n",
    "    for line in file:\n",
    "        line = line.strip()\n",
    "        if line.endswith(\":\"):  # Movie ID line\n",
    "            movie_id = line[:-1].strip()  # Remove colon\n",
    "            movie_id = int(movie_id) if movie_id.isdigit() else None  # Validate\n",
    "        elif movie_id is not None:\n",
    "            parts = line.split(\",\")\n",
    "            if len(parts) == 3:\n",
    "                try:\n",
    "                    cust_id, rating, _ = parts  # Ignore date\n",
    "                    ratings_list.append([int(cust_id), int(rating), movie_id])\n",
    "                except ValueError:\n",
    "                    continue  # Skip invalid lines\n",
    "\n",
    "# ✅ Convert ratings data to DataFrame\n",
    "ratings_df = pd.DataFrame(ratings_list, columns=[\"cust_id\", \"rating\", \"movie_id\"])\n",
    "\n",
    "# ✅ Merge datasets\n",
    "merged_df = ratings_df.merge(movies_df, on=\"movie_id\", how=\"left\")\n",
    "\n",
    "# ✅ Handle missing values in movie details\n",
    "merged_df[\"year\"] = merged_df[\"year\"].fillna(\"Unknown\")\n",
    "merged_df[\"title\"] = merged_df[\"title\"].fillna(\"Unknown Movie\")\n",
    "\n",
    "# ✅ Format output\n",
    "merged_df[\"moviename_year\"] = merged_df[\"title\"] + \" (\" + merged_df[\"year\"] + \")\"\n",
    "final_df = merged_df[[\"cust_id\", \"rating\", \"moviename_year\"]]\n",
    "\n",
    "# ✅ Print sample output\n",
    "print(final_df.head())\n",
    "\n",
    "# ✅ Save final merged data\n",
    "final_df.to_csv(\"final_merged_data.csv\", index=False, encoding=\"utf-8\")\n"
   ]
  },
  {
   "cell_type": "code",
   "execution_count": null,
   "id": "3c596170-ac7b-4b72-98e2-10ba370947e8",
   "metadata": {},
   "outputs": [],
   "source": [
    "\n",
    "final_df.info()"
   ]
  },
  {
   "cell_type": "code",
   "execution_count": null,
   "id": "325e12fc-2378-427b-88de-8790fe5305ad",
   "metadata": {},
   "outputs": [],
   "source": [
    "\n",
    "final_df = final_df.drop(columns=['rating']) # remove ratings col\n",
    "final_df.info()"
   ]
  },
  {
   "cell_type": "code",
   "execution_count": null,
   "id": "bc2ba8a5-1cd0-4dca-93fc-085c6f94da0e",
   "metadata": {},
   "outputs": [],
   "source": [
    "pt = pd.pivot_table(final_df, values=['moviename_year'],\n",
    "                    index = 'cust_id',\n",
    "                    aggfunc={'moviename_year': list})"
   ]
  },
  {
   "cell_type": "code",
   "execution_count": null,
   "id": "fb2cb735-dbc7-4ad5-8f95-232590553d93",
   "metadata": {},
   "outputs": [],
   "source": [
    "pt"
   ]
  },
  {
   "cell_type": "code",
   "execution_count": null,
   "id": "a1574d1d-ad35-4619-ab7e-261eb111ba64",
   "metadata": {},
   "outputs": [],
   "source": [
    "\n",
    "ls_movies_percust = list(pt['moviename_year'])\n",
    "ls_movies_percust"
   ]
  },
  {
   "cell_type": "code",
   "execution_count": null,
   "id": "08e1e840-7d93-49cd-90d8-0c4d86a61004",
   "metadata": {},
   "outputs": [],
   "source": [
    "\n",
    "len(ls_movies_percust)"
   ]
  },
  {
   "cell_type": "code",
   "execution_count": null,
   "id": "c5e7df99-d58a-4706-bdb2-38bd28c9f3fc",
   "metadata": {},
   "outputs": [],
   "source": [
    "\n",
    "max(len(elem) for elem in ls_movies_percust)"
   ]
  },
  {
   "cell_type": "code",
   "execution_count": null,
   "id": "82bd0f2f-08b8-44d0-80a0-2c4b02c2ca9c",
   "metadata": {},
   "outputs": [],
   "source": [
    "!pip install mlxtend"
   ]
  },
  {
   "cell_type": "code",
   "execution_count": null,
   "id": "f02c5399-db3c-4be3-9c86-94ee396d1e1d",
   "metadata": {},
   "outputs": [],
   "source": [
    "\n",
    "from mlxtend.preprocessing import TransactionEncoder\n",
    "trans_en = TransactionEncoder()\n",
    "trans_array = trans_en.fit(ls_movies_percust).transform(ls_movies_percust)\n",
    "df_eclat = pd.DataFrame(trans_array, columns = trans_en.columns_)"
   ]
  },
  {
   "cell_type": "code",
   "execution_count": null,
   "id": "fbd7e972-23d9-431a-acb4-92173c3f8a67",
   "metadata": {},
   "outputs": [],
   "source": [
    "\n",
    "df_eclat[:5].dtypes"
   ]
  },
  {
   "cell_type": "code",
   "execution_count": null,
   "id": "3082e7b2-81d1-48d0-9dce-ba3025a5ac63",
   "metadata": {},
   "outputs": [],
   "source": [
    "\n",
    "pd.set_option(\"display.max_rows\", None, \"display.max_columns\", None)\n",
    "df_eclat.head()"
   ]
  },
  {
   "cell_type": "code",
   "execution_count": null,
   "id": "882b9625-29c8-414f-bdbc-8ffccfcd6f01",
   "metadata": {},
   "outputs": [],
   "source": [
    "\n",
    "# count items in each column\n",
    "items_total = df_eclat.sum(axis=0)\n",
    "items_total"
   ]
  },
  {
   "cell_type": "code",
   "execution_count": null,
   "id": "511b21ba-c731-4682-8ccf-95e796fda56a",
   "metadata": {},
   "outputs": [],
   "source": [
    "\n",
    "# count items in each row\n",
    "items_per_transaction = df_eclat.sum(axis=1)\n",
    "items_per_transaction"
   ]
  },
  {
   "cell_type": "code",
   "execution_count": null,
   "id": "16fed2d8-e56c-40ce-8c95-339b0178dea0",
   "metadata": {},
   "outputs": [],
   "source": [
    "type(items_per_transaction)"
   ]
  },
  {
   "cell_type": "code",
   "execution_count": null,
   "id": "7bbb0b9f-a981-4ea4-824a-2f2979905d7c",
   "metadata": {},
   "outputs": [],
   "source": [
    "from mlxtend.frequent_patterns import apriori\n",
    "import pandas as pd\n",
    "\n",
    "# Reduce dataset size by sampling (adjust fraction as needed)\n",
    "df_eclat_sampled = df_eclat.sample(frac=0.1, random_state=42)\n",
    "\n",
    "# Drop infrequent columns (items appearing in very few transactions)\n",
    "min_item_occurrence = 10  # Adjust based on dataset\n",
    "df_eclat_sampled = df_eclat_sampled.loc[:, df_eclat_sampled.sum() > min_item_occurrence]\n",
    "\n",
    "# Run Apriori with memory optimization\n",
    "df_frequent_itemsets = apriori(\n",
    "    df_eclat_sampled, \n",
    "    min_support=0.2,  # Increase min_support to reduce memory usage\n",
    "    use_colnames=True, \n",
    "    low_memory=True,  # Enables memory-efficient processing\n",
    "    max_len=2  # Prevents explosion in combinations\n",
    ")\n",
    "\n",
    "# Display results\n",
    "print(df_frequent_itemsets.head())\n"
   ]
  },
  {
   "cell_type": "code",
   "execution_count": null,
   "id": "bd228a7b-72a6-4d95-a5f4-c2f4984ddf2c",
   "metadata": {},
   "outputs": [],
   "source": [
    "\n",
    "df_frequent_itemsets"
   ]
  },
  {
   "cell_type": "code",
   "execution_count": null,
   "id": "83b3caa0-a6e5-4657-b3e3-ce00e1ccd4f9",
   "metadata": {},
   "outputs": [],
   "source": []
  }
 ],
 "metadata": {
  "kernelspec": {
   "display_name": "Python 3 (ipykernel)",
   "language": "python",
   "name": "python3"
  },
  "language_info": {
   "codemirror_mode": {
    "name": "ipython",
    "version": 3
   },
   "file_extension": ".py",
   "mimetype": "text/x-python",
   "name": "python",
   "nbconvert_exporter": "python",
   "pygments_lexer": "ipython3",
   "version": "3.12.7"
  }
 },
 "nbformat": 4,
 "nbformat_minor": 5
}
